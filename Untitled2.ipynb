{
  "nbformat": 4,
  "nbformat_minor": 0,
  "metadata": {
    "colab": {
      "provenance": [],
      "authorship_tag": "ABX9TyP1O8nJNEN8x3/fY42G2sIu",
      "include_colab_link": true
    },
    "kernelspec": {
      "name": "python3",
      "display_name": "Python 3"
    },
    "language_info": {
      "name": "python"
    }
  },
  "cells": [
    {
      "cell_type": "markdown",
      "metadata": {
        "id": "view-in-github",
        "colab_type": "text"
      },
      "source": [
        "<a href=\"https://colab.research.google.com/github/Mathiyazhagi16/Data-science-eda/blob/main/Untitled2.ipynb\" target=\"_parent\"><img src=\"https://colab.research.google.com/assets/colab-badge.svg\" alt=\"Open In Colab\"/></a>"
      ]
    },
    {
      "cell_type": "code",
      "source": [
        "\n",
        "import numpy as np\n",
        "import pandas as pd\n",
        "from scipy import stats\n",
        "\n",
        "# Sample dataset\n",
        "data = [10, 20, 30, 40, 50, 60, 70]\n",
        "\n",
        "# Mean\n",
        "mean_value = np.mean(data)\n",
        "print(f\"Mean: {mean_value}\")  # Corrected quotation marks"
      ],
      "metadata": {
        "colab": {
          "base_uri": "https://localhost:8080/"
        },
        "id": "7h53UT4-zqF_",
        "outputId": "60a77f14-4193-4e58-9221-cd94808d02ea"
      },
      "execution_count": 2,
      "outputs": [
        {
          "output_type": "stream",
          "name": "stdout",
          "text": [
            "Mean: 40.0\n"
          ]
        }
      ]
    },
    {
      "cell_type": "code",
      "source": [
        "variance = np.var(data, ddof=1) # Sample variance\n",
        "# Standard Deviation\n",
        "std_dev = np.std(data, ddof=1)\n",
        "print(f\"Variance: {variance}, Standard Deviation: {std_dev}\")"
      ],
      "metadata": {
        "colab": {
          "base_uri": "https://localhost:8080/"
        },
        "id": "39R_EaVo04-I",
        "outputId": "93e0fdb8-352e-4c68-9181-c65a26da30e8"
      },
      "execution_count": 3,
      "outputs": [
        {
          "output_type": "stream",
          "name": "stdout",
          "text": [
            "Variance: 466.6666666666667, Standard Deviation: 21.602468994692867\n"
          ]
        }
      ]
    }
  ]
}